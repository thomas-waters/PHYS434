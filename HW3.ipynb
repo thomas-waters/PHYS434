{
 "cells": [
  {
   "cell_type": "markdown",
   "id": "1f3dc647-1619-4e3a-947f-314903fae050",
   "metadata": {},
   "source": [
    "# PHYS 434 - HW2"
   ]
  },
  {
   "cell_type": "code",
   "execution_count": 1,
   "id": "2012c237-2ff7-40d7-8aea-7f2fbc304424",
   "metadata": {},
   "outputs": [],
   "source": [
    "import pandas as pd"
   ]
  },
  {
   "cell_type": "markdown",
   "id": "78e51f10-3793-40c3-9c1a-abd19a83c0b3",
   "metadata": {},
   "source": [
    "## Problem #1"
   ]
  },
  {
   "cell_type": "markdown",
   "id": "32580b87-ac3a-45ec-96b5-bed1d7d9d98c",
   "metadata": {},
   "source": [
    "#### 1a) Which algorithm makes the fewest mistakes?"
   ]
  },
  {
   "attachments": {
    "08ef3d2a-91ae-4998-9e82-bc29c5010df6.png": {
     "image/png": "[encoded data removed]"
    },
    "3cd3f130-3010-419c-bce6-30f6c602bed7.png": {
     "image/png": "[encoded data removed]"
    }
   },
   "cell_type": "markdown",
   "id": "29f83783-e44c-4948-a476-1789292a41da",
   "metadata": {},
   "source": [
    "![image.png](attachment:3cd3f130-3010-419c-bce6-30f6c602bed7.png)\n",
    "![image.png](attachment:08ef3d2a-91ae-4998-9e82-bc29c5010df6.png)"
   ]
  },
  {
   "cell_type": "markdown",
   "id": "1d2d0ba0-3820-4f1f-8c1f-8fd87543e68b",
   "metadata": {},
   "source": [
    "NN makes the fewest mistakes, 8 vs 12."
   ]
  },
  {
   "cell_type": "markdown",
   "id": "3da494c8-3b01-4b96-9438-0274d757e20d",
   "metadata": {},
   "source": [
    "#### 1b) Which algorithm is better for the zoo? Explain.\n",
    "\n"
   ]
  },
  {
   "cell_type": "markdown",
   "id": "cfe4fa8b-0d3d-42f4-b37e-8e8967dfd9a3",
   "metadata": {},
   "source": [
    "The NA algorithm is better for the zoo because it misidentifies less birds. So less birds will escape."
   ]
  },
  {
   "cell_type": "markdown",
   "id": "a6a4dc3f-4b6e-4101-8f88-b77bee01b7d6",
   "metadata": {},
   "source": [
    "#### 1c) During the pandemic the number of visitors plummets, and it is only the zoo keeper visiting. So instead of 52% of the photos taken at the aviary door being people, it is now only 1%. Make new truth tables for both algorithms.\n",
    "\n"
   ]
  },
  {
   "cell_type": "code",
   "execution_count": 2,
   "id": "b9815022-5586-48c9-a326-12e3901f8fbf",
   "metadata": {},
   "outputs": [],
   "source": [
    "N_birds = 48\n",
    "N_people = 1"
   ]
  },
  {
   "cell_type": "code",
   "execution_count": 3,
   "id": "1904c63b-7038-4f12-8642-d82fbf22d5b8",
   "metadata": {},
   "outputs": [],
   "source": [
    "NN_false_birds_original = 3/48\n",
    "NN_false_people_original = 5/52\n",
    "\n",
    "NA_false_birds_original = 1/48\n",
    "NA_false_people_original = 11/52"
   ]
  },
  {
   "cell_type": "code",
   "execution_count": 4,
   "id": "7c1be6da-b30f-41b4-8f6d-f150d6007aa5",
   "metadata": {},
   "outputs": [],
   "source": [
    "N_birds_new = 99\n",
    "N_people_new = 1"
   ]
  },
  {
   "cell_type": "code",
   "execution_count": 5,
   "id": "01d2c192-cf6d-433a-bfb0-8b419cb59785",
   "metadata": {},
   "outputs": [],
   "source": [
    "NN_false_birds_new = int(N_birds_new * NN_false_birds_original)\n",
    "NN_false_people_new = int(N_people_new * NN_false_people_original)"
   ]
  },
  {
   "cell_type": "code",
   "execution_count": 6,
   "id": "d3998ab0-d42f-4a6c-b03c-5093224fec5d",
   "metadata": {},
   "outputs": [
    {
     "data": {
      "text/plain": [
       "(6, 0)"
      ]
     },
     "execution_count": 6,
     "metadata": {},
     "output_type": "execute_result"
    }
   ],
   "source": [
    "NN_false_birds_new, NN_false_people_new"
   ]
  },
  {
   "cell_type": "code",
   "execution_count": 7,
   "id": "0caeecef-27bc-44b0-8e1f-f8620c7c8527",
   "metadata": {},
   "outputs": [],
   "source": [
    "NN_data = {'True Bird':[93, 6],\n",
    "        'True Person':[0, 1]}\n",
    " \n",
    "NN_df = pd.DataFrame(NN_data, index =['NN Bird',\n",
    "                                'NN Person'])"
   ]
  },
  {
   "cell_type": "code",
   "execution_count": 8,
   "id": "69a2e5e7-2cf8-485f-9478-0304d14059f8",
   "metadata": {},
   "outputs": [
    {
     "data": {
      "text/html": [
       "<div>\n",
       "<style scoped>\n",
       "    .dataframe tbody tr th:only-of-type {\n",
       "        vertical-align: middle;\n",
       "    }\n",
       "\n",
       "    .dataframe tbody tr th {\n",
       "        vertical-align: top;\n",
       "    }\n",
       "\n",
       "    .dataframe thead th {\n",
       "        text-align: right;\n",
       "    }\n",
       "</style>\n",
       "<table border=\"1\" class=\"dataframe\">\n",
       "  <thead>\n",
       "    <tr style=\"text-align: right;\">\n",
       "      <th></th>\n",
       "      <th>True Bird</th>\n",
       "      <th>True Person</th>\n",
       "    </tr>\n",
       "  </thead>\n",
       "  <tbody>\n",
       "    <tr>\n",
       "      <th>NN Bird</th>\n",
       "      <td>93</td>\n",
       "      <td>0</td>\n",
       "    </tr>\n",
       "    <tr>\n",
       "      <th>NN Person</th>\n",
       "      <td>6</td>\n",
       "      <td>1</td>\n",
       "    </tr>\n",
       "  </tbody>\n",
       "</table>\n",
       "</div>"
      ],
      "text/plain": [
       "           True Bird  True Person\n",
       "NN Bird           93            0\n",
       "NN Person          6            1"
      ]
     },
     "execution_count": 8,
     "metadata": {},
     "output_type": "execute_result"
    }
   ],
   "source": [
    "NN_df"
   ]
  },
  {
   "cell_type": "code",
   "execution_count": 9,
   "id": "0d75afcd-6512-40ed-bf89-807b31bf1363",
   "metadata": {},
   "outputs": [],
   "source": [
    "NA_false_birds_new = int(N_birds_new * NA_false_birds_original)\n",
    "NA_false_people_new = int(N_people_new * NA_false_people_original)"
   ]
  },
  {
   "cell_type": "code",
   "execution_count": 10,
   "id": "dc6d1715-8c99-4d47-92f0-3a77c9716b93",
   "metadata": {},
   "outputs": [
    {
     "data": {
      "text/plain": [
       "(2, 0)"
      ]
     },
     "execution_count": 10,
     "metadata": {},
     "output_type": "execute_result"
    }
   ],
   "source": [
    "NA_false_birds_new, NA_false_people_new"
   ]
  },
  {
   "cell_type": "code",
   "execution_count": 11,
   "id": "76be3f0b-f6fe-4a8a-9eeb-44043d237c78",
   "metadata": {},
   "outputs": [],
   "source": [
    "NA_data = {'True Bird':[97, 2],\n",
    "        'True Person':[0, 1]}\n",
    " \n",
    "NA_df = pd.DataFrame(NA_data, index =['NA Bird',\n",
    "                                'NA Person'])"
   ]
  },
  {
   "cell_type": "code",
   "execution_count": 13,
   "id": "b4701414-5a16-43f0-b14e-4d9893abb3d5",
   "metadata": {},
   "outputs": [
    {
     "data": {
      "text/html": [
       "<div>\n",
       "<style scoped>\n",
       "    .dataframe tbody tr th:only-of-type {\n",
       "        vertical-align: middle;\n",
       "    }\n",
       "\n",
       "    .dataframe tbody tr th {\n",
       "        vertical-align: top;\n",
       "    }\n",
       "\n",
       "    .dataframe thead th {\n",
       "        text-align: right;\n",
       "    }\n",
       "</style>\n",
       "<table border=\"1\" class=\"dataframe\">\n",
       "  <thead>\n",
       "    <tr style=\"text-align: right;\">\n",
       "      <th></th>\n",
       "      <th>True Bird</th>\n",
       "      <th>True Person</th>\n",
       "    </tr>\n",
       "  </thead>\n",
       "  <tbody>\n",
       "    <tr>\n",
       "      <th>NA Bird</th>\n",
       "      <td>97</td>\n",
       "      <td>0</td>\n",
       "    </tr>\n",
       "    <tr>\n",
       "      <th>NA Person</th>\n",
       "      <td>2</td>\n",
       "      <td>1</td>\n",
       "    </tr>\n",
       "  </tbody>\n",
       "</table>\n",
       "</div>"
      ],
      "text/plain": [
       "           True Bird  True Person\n",
       "NA Bird           97            0\n",
       "NA Person          2            1"
      ]
     },
     "execution_count": 13,
     "metadata": {},
     "output_type": "execute_result"
    }
   ],
   "source": [
    "NA_df"
   ]
  },
  {
   "cell_type": "markdown",
   "id": "aa5217eb-e9c7-436c-9cb1-383361c947f7",
   "metadata": {},
   "source": [
    "## Problem #2"
   ]
  },
  {
   "cell_type": "markdown",
   "id": "6a3c5be1-9077-410d-9089-f52d553c3abb",
   "metadata": {},
   "source": [
    "#### 2a) What is the pdf of the sum of two identical exponential distributions?"
   ]
  },
  {
   "cell_type": "markdown",
   "id": "88084965-ad47-454e-a930-4a54197a4c94",
   "metadata": {},
   "source": [
    "Erlang Distribution"
   ]
  },
  {
   "cell_type": "markdown",
   "id": "67dbf499-0758-4c84-bad5-f7b575e0289b",
   "metadata": {},
   "source": [
    "#### 2b) What is the pdf of the ratio of two zero-mean unity variance normal distributions  𝑋1/𝑋2 ?"
   ]
  },
  {
   "cell_type": "markdown",
   "id": "643a5cd6-1a4b-45fb-9115-a26808557abf",
   "metadata": {},
   "source": [
    "Cauchy Distribution"
   ]
  },
  {
   "cell_type": "markdown",
   "id": "306e3a86-dcc4-44d8-84ad-a2b69f7c6d61",
   "metadata": {},
   "source": [
    "#### 2c) So far we have looked at 1D probability distributions, but it is possible to have a multi-dimensional vector distribution. A simple first introduction is the 2D Guassian; it looks like a smeared spot. Mathematically this is given by  𝑋𝑖̂ +𝑌𝑗̂   where both  𝑋  and  𝑌  are drawn from 1D Gaussian distributions. If I measure the amplitude of this vector, what is its pdf? (Hint, the amplitude is always positive.)"
   ]
  },
  {
   "cell_type": "code",
   "execution_count": null,
   "id": "f204908e-b7f3-46e9-8e7d-5d339a72de9a",
   "metadata": {},
   "outputs": [],
   "source": []
  }
 ],
 "metadata": {
  "kernelspec": {
   "display_name": "Python 3",
   "language": "python",
   "name": "python3"
  },
  "language_info": {
   "codemirror_mode": {
    "name": "ipython",
    "version": 3
   },
   "file_extension": ".py",
   "mimetype": "text/x-python",
   "name": "python",
   "nbconvert_exporter": "python",
   "pygments_lexer": "ipython3",
   "version": "3.7.10"
  }
 },
 "nbformat": 4,
 "nbformat_minor": 5
}
