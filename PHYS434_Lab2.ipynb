{
 "cells": [
  {
   "cell_type": "markdown",
   "id": "70a27ae7-e33e-4785-a809-29bfb392187f",
   "metadata": {},
   "source": [
    "# PHYS 434 - Lab 2"
   ]
  },
  {
   "cell_type": "markdown",
   "id": "2682ef9c-12ef-4aaf-a91d-a4ddc96ff176",
   "metadata": {},
   "source": [
    "## Thomas Waters"
   ]
  },
  {
   "cell_type": "markdown",
   "id": "30125dd4-6279-4f42-90b9-6b9178b841ea",
   "metadata": {},
   "source": [
    "#### Problem 1\n",
    "In lecture and homework we explored how the convolution can be used to calculate the probability of a sum or average. For this problem we are going to imagine that we are looking for gamma-ray sources (e.g. with the Fermi telescope). In this kind of telescope there is a background of cosmic-rays (electrons and protons, mostly) that provides a discrete noise term across the sky that precisely follows a Poisson distribution. To detect a gamma-ray source, you need to ask what is the probability that the cosmic-ray background would have given you a measurement as signal-like or more than the signal that you received.\n",
    "\n",
    "To set up the problem, assume in 1 day the average cosmic-ray background is some number X (pick someting btwn 0.5 and 10, with different values for you and your lab partner); and the average number of gamma-rays emitted by your hypothetical source is Y (pick something larger than X).\n",
    "\n",
    "A) Show how the probability distribution of the background changes as you integrate (sum) for more days.\n",
    "\n",
    "B) Show that after 5 days, the summed probability distribution is still a Poisson distribution. Explain why this makes sense from a mathematical and conceptual point of view.\n",
    "\n",
    "C) Show how the probability distribution evolves as you average days. Calculate for many different ranges of days, and explore the shape of the distribution as the number of days becomes larger. Discuss this in relation to both B) and the central limit theoem.\n",
    "\n",
    "D) Pick some number of days N, and assume you saw Y*N gamma rays from your source. Calculate the 'sigma' of your observation. [In reality the number of gamma-rays seen from a source will also fluctuate, but we're going to ignore that complication for a couple of labs.]"
   ]
  },
  {
   "cell_type": "code",
   "execution_count": null,
   "id": "5f0c0825-3665-488d-bc9c-bde99b3fdbac",
   "metadata": {},
   "outputs": [],
   "source": []
  }
 ],
 "metadata": {
  "kernelspec": {
   "display_name": "Python 3",
   "language": "python",
   "name": "python3"
  },
  "language_info": {
   "codemirror_mode": {
    "name": "ipython",
    "version": 3
   },
   "file_extension": ".py",
   "mimetype": "text/x-python",
   "name": "python",
   "nbconvert_exporter": "python",
   "pygments_lexer": "ipython3",
   "version": "3.7.10"
  }
 },
 "nbformat": 4,
 "nbformat_minor": 5
}
